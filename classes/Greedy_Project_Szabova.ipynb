{
 "cells": [
  {
   "cell_type": "markdown",
   "metadata": {},
   "source": [
    "# Knapsack"
   ]
  },
  {
   "cell_type": "code",
   "execution_count": 8,
   "metadata": {},
   "outputs": [
    {
     "name": "stdout",
     "output_type": "stream",
     "text": [
      "The autoreload extension is already loaded. To reload it, use:\n",
      "  %reload_ext autoreload\n"
     ]
    }
   ],
   "source": [
    "# Import path to source directory (bit of a hack in Jupyter)\n",
    "import sys\n",
    "import os\n",
    "pwd = %pwd\n",
    "sys.path.append(os.path.join(pwd, os.path.join('..', 'src')))\n",
    "\n",
    "# Ensure modules are reloaded on any change (very useful when developing code on the fly)\n",
    "%load_ext autoreload\n",
    "%autoreload 2"
   ]
  },
  {
   "cell_type": "code",
   "execution_count": 9,
   "metadata": {},
   "outputs": [],
   "source": [
    "# Import external librarires\n",
    "import numpy as np\n",
    "import pandas as pd\n",
    "from tqdm import tqdm_notebook\n",
    "\n",
    "import matplotlib\n",
    "%matplotlib notebook\n",
    "import matplotlib.pyplot as plt\n",
    "import seaborn as sns\n",
    "sns.set()\n",
    "\n",
    "# Import our code\n",
    "from objfun_tsp import TSPGrid"
   ]
  },
  {
   "cell_type": "markdown",
   "metadata": {},
   "source": [
    "## Knapsack problem"
   ]
  },
  {
   "cell_type": "markdown",
   "metadata": {},
   "source": [
    "### Description\n",
    "\n",
    "* Input: nonnegative numbers $p_1, \\dots, p_n, a_1, \\dots, a_n, W$\n",
    "* The aim is to maximize the sum \n",
    "\n",
    "$$\\mathrm{max}\\sum_{j = 1}^np_jx_j$$\n",
    "\n",
    "* while the condition holds true:\n",
    "\n",
    "$$ \\sum_{j = 1}^na_jx_j \\leq W, $$\n",
    "\n",
    "* where $x \\in \\{0,1\\}^n$ if we talk about 0/1 Knapsack problem and $x \\in (\\mathbb{R}_0^+)^n$ if fractional Knapsack problem is considered."
   ]
  },
  {
   "cell_type": "markdown",
   "metadata": {},
   "source": [
    "## 0/1 Knapsack problem\n",
    "\n",
    "* Firstly we aim our attention at 0/1 Knapsack problem. Meaning that only whole items can be added to the Knapsack."
   ]
  },
  {
   "cell_type": "code",
   "execution_count": 13,
   "metadata": {},
   "outputs": [],
   "source": [
    "from greedy2 import GreedyAlg2\n",
    "of = GreedyAlg2()  "
   ]
  },
  {
   "cell_type": "code",
   "execution_count": 15,
   "metadata": {},
   "outputs": [
    {
     "name": "stdout",
     "output_type": "stream",
     "text": [
      "Optimal value of the Knapsack is: 200.0\n"
     ]
    }
   ],
   "source": [
    "value = [50, 40, 30, 50, 30, 24, 36]\n",
    "weight = [5, 4, 6, 3, 2, 6, 7]\n",
    "TotalWeight = 20\n",
    "\n",
    "optimal, Amatrix = of.greedy_0_1_dynamic(TotalWeight, weight, value);\n",
    "print(\"Optimal value of the Knapsack is: {:.1f}\".format(optimal))\n"
   ]
  },
  {
   "cell_type": "code",
   "execution_count": 17,
   "metadata": {},
   "outputs": [
    {
     "name": "stdout",
     "output_type": "stream",
     "text": [
      "Sorted items to be added to knapsack: [0, 1, 2, 3, 4]\n"
     ]
    }
   ],
   "source": [
    "items = of.BackTracking(TotalWeight, weight, Amatrix)\n",
    "print(\"Sorted items to be added to knapsack: {}\".format(items))"
   ]
  },
  {
   "cell_type": "markdown",
   "metadata": {},
   "source": [
    "## Simulated annealing for 0/1 Knapsack problem"
   ]
  },
  {
   "cell_type": "markdown",
   "metadata": {},
   "source": [
    "### Algorithm\n",
    "\n",
    "* Take parameter $\\beta$\n",
    "* Choose item randomly from uniform distribution while you find one, that has not been added to the Knapsack yet\n",
    "* If the weight limit after adding the item to the knapsack is exceeded drop an item from the Knapsack, that has been chosen randomly\n",
    "* Otherwise add the item to the Knapsack\n",
    "* This way new sortment is obtained and compute the difference between the sortments\n",
    "* With probability $P$ determined by $\\mathrm{min}\\{1, \\mathrm{e}^{\\beta \\Delta} \\}$ we accept the new assortment\n",
    "* Otherwise, old assortment is the new assortment\n",
    "* Repeat the algorithm $n$ times for all parameters $\\beta$"
   ]
  },
  {
   "cell_type": "code",
   "execution_count": 18,
   "metadata": {},
   "outputs": [
    {
     "name": "stdout",
     "output_type": "stream",
     "text": [
      "Optimal value of the Knapsack is: 200.0\n",
      "Items of the Knapsack: [0, 1, 2, 3, 4]\n"
     ]
    }
   ],
   "source": [
    "indices = [0,1,2,3,4,5,6]\n",
    "value = [50, 40, 30, 50, 30, 24, 36]\n",
    "weight = [5, 4, 6, 3, 2, 6, 7]\n",
    "TotalWeight = 20\n",
    "beta = np.linspace(0, 1, 101)\n",
    "n = 1000\n",
    "\n",
    "items, optimal = of.Knapsack(value, weight, TotalWeight, beta, n)\n",
    "print(\"Optimal value of the Knapsack is: {:.1f}\".format(optimal))\n",
    "print(\"Items of the Knapsack: {}\".format(items))"
   ]
  },
  {
   "cell_type": "markdown",
   "metadata": {},
   "source": [
    "## Fractional Knapsack problem\n",
    "\n",
    "* Now we are interested in fractional Knapsack problem. Meaning that fractions of items can be added to the Knapsack.\n"
   ]
  },
  {
   "cell_type": "markdown",
   "metadata": {},
   "source": [
    "### Algorithm\n",
    "\n",
    "* Assume knapsack holds weight $W$ and items have value $value_i$ and weights $weight_i$\n",
    "* Sort items by value/weight ration: $\\frac{value_i}{weight_i}$ in descending order\n",
    "* Take the item with highest ratio if the weight limit is not exceeded otherwise take $\\frac{W-load}{w_i}$ where load is weight of items already added to the knapsack\n",
    "* Continue unless weight limit or number of items is reached\\\n"
   ]
  },
  {
   "cell_type": "code",
   "execution_count": 19,
   "metadata": {},
   "outputs": [
    {
     "name": "stdout",
     "output_type": "stream",
     "text": [
      "Optimal value of the Knapsack is: 200.9\n"
     ]
    }
   ],
   "source": [
    "value = [50, 40, 30, 50, 30, 24, 36]\n",
    "weight = [5, 4, 6, 3, 2, 6, 7]\n",
    "TotalWeight = 20\n",
    "\n",
    "optimal = of.knapsack_fractional(TotalWeight, weight, value)\n",
    "print(\"Optimal value of the Knapsack is: {:.1f}\".format(optimal))\n"
   ]
  },
  {
   "cell_type": "markdown",
   "metadata": {},
   "source": [
    "#### The above results suggest that the highest value of the Knapsack was obtained by Fractional Knapsack.  For 0/1 Knapsack both methods (greedy dynamic and simulated annealing) has shown the same result ."
   ]
  }
 ],
 "metadata": {
  "kernelspec": {
   "display_name": "Python 3",
   "language": "python",
   "name": "python3"
  },
  "language_info": {
   "codemirror_mode": {
    "name": "ipython",
    "version": 3
   },
   "file_extension": ".py",
   "mimetype": "text/x-python",
   "name": "python",
   "nbconvert_exporter": "python",
   "pygments_lexer": "ipython3",
   "version": "3.6.2"
  }
 },
 "nbformat": 4,
 "nbformat_minor": 1
}
